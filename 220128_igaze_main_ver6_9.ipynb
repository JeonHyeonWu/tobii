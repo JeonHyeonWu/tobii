{
 "cells": [
  {
   "cell_type": "code",
   "execution_count": null,
   "id": "afde38d4",
   "metadata": {
    "scrolled": true
   },
   "outputs": [],
   "source": [
    "##############################################\n",
    "# Tiinc STRABISMUS EYETRACKING PROGRAM  v0.69 #\n",
    "# Data : Make output csv FILE & PYQT GRAPH   #\n",
    "# COPYRIGHT BY Jeon                          #\n",
    "##############################################\n",
    "# -------------------------------------------------------------------------------\n",
    "# Change LogUSB_msg_dq\n",
    "\n",
    "#[v0.1] 2021.09.07 : Made and connected FirstWindow(Input ProjectID, PatientID) & SecondWindow(Dataplotting, video streaming)\n",
    "#                    Connected Tobii glasses 2 with computer, Data(Azimuth, Elevation, X,Y,Z) Plotting & Video Streaming\n",
    "#[v0.2] 2021.09.09 : Changed FirstWindow GUI, added rule that coudn't continue if user does not insert project/patient ID\n",
    "#                    Resized Video width(To 1/2), Added Layer(Setting), Added Legend(graph)\n",
    "#[v0.3] 2021.09.15 : Added Serial Protocol(communicate Computer with Alternating Occulusion Machine, AOM), Added AOM Graph(ing)\n",
    "#[v0.32] 2021.09.27 : plot 수정 \n",
    "#[v0.5] 2021.10.25 : Tobii connection / AOM connection / AOM Mode status 추가 \n",
    "#[v0.51] 2021.11.01 : Plot 수정\n",
    "#[v0.6] 2021.11.01 : Layout 수정\n",
    "#[v0.65]2021.12.03 : 동영상 Frame 수정\n",
    "#[v0.66]2021.12.06 : 동영상 Frame 수정\n",
    "#[v0.662]2021.12.06 : USB_msg Video frame으로 수정\n",
    "#[v0.664]2021.12.21 : Tobii 명칭 > ETM(Eye Tracking Machine) 으로 변경\n",
    "#[v0.665]2021.12.27 : USB msg 수정 L0R0 - > 4, cycle time 수정, UART통신 유선으로 변경, USB Messeage 최적화(Append구문변경)\n",
    "#                     iloc 범위수정\n",
    "#[v0.666]2021.12.28 : 동공 Detection 실패 시 데이터 None으로 기록\n",
    "#[v0.67]2022.01.07 : 시간컬럼 0.1초까지 표시, 동공사이즈 컬럼 추가, 코드 시작 시점부터 데이터 기록 Serial 데이터 수신부 Video_\n",
    "#Thread로 옮김\n",
    "#[v0.671]2022.01.07 : 교대가림기 데이터 수신 시 offset 범위로 인해 잘못된 데이터 수신, offset 조정 0 -> -0.2\n",
    "#[v0.672]2022.01.12 : 시간,분,초.000 > 분초.000으로 수정\n",
    "#[v0.68]2022.01.19 : 클래스별로 코드 분화\n",
    "#[v0.69]2022.01.28 : Video_thread 제거, Qthread Class(name : worker, Serial 및 Video capture 내장) 생성\n",
    "\n",
    "import sys\n",
    "from PyQt5.QtWidgets import *\n",
    "from First_0119 import FirstWindow\n",
    "\n",
    "\n",
    "if __name__ == \"__main__\":\n",
    "    app = QApplication(sys.argv)\n",
    "    Main = FirstWindow()\n",
    "    sys.exit(app.exec_())"
   ]
  },
  {
   "cell_type": "code",
   "execution_count": null,
   "id": "94d1212c",
   "metadata": {},
   "outputs": [],
   "source": []
  }
 ],
 "metadata": {
  "kernelspec": {
   "display_name": "Python 3",
   "language": "python",
   "name": "python3"
  },
  "language_info": {
   "codemirror_mode": {
    "name": "ipython",
    "version": 3
   },
   "file_extension": ".py",
   "mimetype": "text/x-python",
   "name": "python",
   "nbconvert_exporter": "python",
   "pygments_lexer": "ipython3",
   "version": "3.8.5"
  }
 },
 "nbformat": 4,
 "nbformat_minor": 5
}
