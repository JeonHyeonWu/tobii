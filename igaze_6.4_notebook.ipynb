##############################################
# Tiinc STRABISMUS EYETRACKING PROGRAM  v0.3 #
# Data : Make output csv FILE & PYQT GRAPH   #
# COPYRIGHT BY Jeon                          #
##############################################
# -------------------------------------------------------------------------------
# Change LogUSB_msg_dq

#[v0.1] 2021.09.07 : Made and connected FirstWindow(Input ProjectID, PatientID) & SecondWindow(Dataplotting, video streaming)
#                    Connected Tobii glasses 2 with computer, Data(Azimuth, Elevation, X,Y,Z) Plotting & Video Streaming
#[v0.2] 2021.09.09 : Changed FirstWindow GUI, added rule that coudn't continue if user does not insert project/patient ID
#                    Resized Video width(To 1/2), Added Layer(Setting), Added Legend(graph)
#[v0.3] 2021.09.15 : Added Serial Protocol(communicate Computer with Alternating Occulusion Machine, AOM), Added AOM Graph(ing)
#[v0.32] 2021.09.27 : plot 수정
#[v0.5] 2021.10.25 : Tobii connection / AOM connection / AOM Mode status 추가 
#[v0.51] 2021.11.01 : Plot 수정 
#[v0.6] 2021.11.01 : Layout 수정
#[v0.6.5] 2021.12.02 : 프로그램 최적화


import os
import pyqtgraph
import serial.tools.list_ports
from pyqtgraph.Qt import *
from PyQt5.QtCore import *
from PyQt5.QtGui import * 
from PyQt5.QtWidgets import *
from PyQt5 import uic
from pandas import DataFrame
from collections import deque
import pandas
import serial
import time
import binascii
import numpy as np
import math
from PyQt5 import *
import random
import cv2
import threading
from time import sleep
import json
from tobiiglassesctrl import TobiiGlassesController


Right_status = 0
Left_status = 0
mode_status = 0
res = 0
USB_msg_dq = deque([])
global Style_1
global Style_2
global Style_3
global Style_4
global Style_5

Style_1 = "color: gray;""background-color: white;""border-style: solid;""border-width: 2px;""border-color: gray;""border-radius: 3px"
Style_2 = "color: gray;""border-style: solid;""border-width: 2px;""border-color: red;""border-radius: 3px"
Style_3 = "color: black;""background-color: white;""border-style: solid;""border-width: 2px;""border-color: black;""border-radius: 3px"
Style_4 = "color: black;""background-color: white;""border-style: solid;""border-width: 2px;""border-color: green;""border-radius: 3px"
Style_5 = "color: black;""border-style: solid;""border-width: 2px;""border-color: green;""border-radius: 3px"


class Main(QWidget):
    
    ############### 전역변수 설정 및 기존 데이터 취득 #####################################
    # 초기 입력값 설정

    Cycle_Time = 1
    # 출력 파일 이름 설정
    DF_Date = time.strftime('%Y%m%d', time.localtime(time.time()))
    OutFileName = "Strabismus_eyetracking_Data_%s" % DF_Date
    # 출력 폴더 생성
    try:
        if not(os.path.isdir('./Data')):
            os.makedirs(os.path.join('./Data'))
    except OSError as e:
        if e.errno != errno.EEXIST:
            print("Failed to create directory!!!!!")
            raise
    # 기존 파일 존재시 데이터 읽기
    if not os.path.exists('./Data/%s.csv'% OutFileName):
        DF_Result = DataFrame({"Azimuth_Right":[0],"Azimuth_Left":[0],"AOM_Right":[0],"AOM_Left":[0],
                               "Elevation_Right":[0],"Elevation_Left":[0], "Xaxis_Right":[0],"Xaxis_Left":[0],
                               "Yaxis_Right":[0], "Yaxis_Left":[0],"Zaxis_Right":[0],"Zaxis_Left":[0], "mode_status":[0]})
        DF_Result.to_csv('./Data/%s.csv'% OutFileName, mode='w')
    else:
        DF_Result = pandas.read_csv('./Data/%s.csv'% OutFileName, index_col=0)
    
    #######################################################################################

    def __init__(self):
        super().__init__()
        self.initUI()
        
    def initUI(self):
        global project_ID
        global patient_ID
        global Style_1
        global Style_2

        Font_1 = QFont("Times New Roman",12,QFont.Bold)
        Font_2 = QFont("Bahnschrift SemiLight",10) 
        self.lbl_red = QLabel('프로젝트명 : ')
        self.lbl_green = QLabel('환자명 : ')
        self.lbl_red.setStyleSheet(Style_1)
        self.lbl_green.setStyleSheet(Style_1)
        # Qfont : https://wikidocs.net/37456 , https://doc.qt.io/qtforpython-5/PySide2/QtGui/QFont.html
        self.lbl_red.setFont(Font_1)
        self.lbl_green.setFont(Font_1)
        self.pb_project_ID = QPushButton('프로젝트명 입력')
        self.pb_project_ID.setCursor(QtGui.QCursor(QtCore.Qt.PointingHandCursor))
        self.pb_project_ID.setStyleSheet(Style_2)
        self.pb_project_ID.setFont(Font_2)
        self.pb_project_ID.clicked.connect(self.project_ID_dialog)
        project_ID = {}
        # getText() 로 텍스트 입력창 띄우기
        self.pb_patient_ID = QPushButton('환자명 입력')
        self.pb_patient_ID.setCursor(QtGui.QCursor(QtCore.Qt.PointingHandCursor))
        self.pb_patient_ID.setStyleSheet(Style_2)
        self.pb_patient_ID.setFont(Font_2)
        self.pb_patient_ID.clicked.connect(self.patient_ID_dialog)
        patient_ID = {}   
        self.pb_Done_ID = QPushButton('입력 완료')
        self.pb_Done_ID.setCursor(QtGui.QCursor(QtCore.Qt.PointingHandCursor))
        self.pb_Done_ID.setStyleSheet(Style_2)
        self.pb_Done_ID.setFont(Font_2)
        self.pb_Done_ID.clicked.connect(self.toggle_window1)        
        vbox0 = QVBoxLayout()
        vbox1 = QVBoxLayout()
        vbox2 = QVBoxLayout()
        hbox = QHBoxLayout()
        vbox1.addWidget(self.lbl_red)
        vbox1.addWidget(self.lbl_green)
        vbox2.addWidget(self.pb_project_ID)
        vbox2.addWidget(self.pb_patient_ID)
        hbox.addLayout(vbox2)
        hbox.addWidget(self.pb_Done_ID)
        vbox0.addLayout(vbox1)
        vbox0.addLayout(hbox)
        self.setLayout(vbox0)
        self.setWindowTitle('TI inc. Igaze Ver 1.0')
        self.setGeometry(0, 0, 300, 200)
        self.center()
        self.show()

    def center(self):
        qr = self.frameGeometry()
        cp = QDesktopWidget().availableGeometry().center()
        qr.moveCenter(cp)
        self.move(qr.topLeft())
        
    def project_ID_dialog(self):
        global project_ID
        global Style_1
        global Style_2
        global Style_3
        global Style_4
        global Style_5
 
        project_ID, ok = QInputDialog.getText(self, '프로젝트명 : ', '프로젝트명 입력')
        if ok:
            self.lbl_red.setText('프로젝트명 : '+project_ID)
            self.lbl_red.setStyleSheet(Style_3)
            self.pb_project_ID.setText('프로젝트명 수정')
            self.pb_project_ID.setStyleSheet(Style_4)
            if (len(project_ID) != 0) and (len(patient_ID) != 0):
                self.pb_Done_ID.setStyleSheet(Style_5)
            elif (len(project_ID) == 0) :
                self.pb_project_ID.setText('프로젝트명 입력')
                self.pb_project_ID.setStyleSheet(Style_2)
                self.lbl_red.setText('프로젝트명 : '+project_ID)
                self.lbl_red.setStyleSheet(Style_1)
                self.pb_Done_ID.setStyleSheet(Style_2)
            else :
                self.pb_Done_ID.setStyleSheet(Style_2)
            
    def patient_ID_dialog(self):
        global patient_ID
        global Style_1
        global Style_2
        global Style_3
        global Style_4
        global Style_5

        patient_ID, ok = QInputDialog.getText(self, '환자명 : ', '환자명 입력')
        if ok:
            self.lbl_green.setText('환자명 : '+patient_ID)
            self.lbl_green.setStyleSheet(Style_3)
            self.pb_patient_ID.setText('환자명 수정')
            self.pb_patient_ID.setStyleSheet(Style_4)

            if (len(project_ID) != 0) and (len(patient_ID) != 0):
                self.pb_Done_ID.setStyleSheet(Style_5)
            elif (len(patient_ID) == 0) :
                self.pb_patient_ID.setText('환자명 입력')
                self.pb_patient_ID.setStyleSheet(Style_2)
                self.lbl_green.setText('환자명 : '+patient_ID)
                self.lbl_green.setStyleSheet(Style_1)
                self.pb_Done_ID.setStyleSheet(Style_2)
            else :
                self.pb_Done_ID.setStyleSheet(Style_2)
                
    def toggle_window1(self):
        if (len(project_ID) == 0) and (len(patient_ID) !=0):
            QtWidgets.QMessageBox.warning(self, "QMessageBox", "\n프로젝트명을 입력해주십시오.")
        elif (len(project_ID) != 0) and (len(patient_ID) == 0):
            QtWidgets.QMessageBox.warning(self, "QMessageBox", "\n환자명을 입력해주십시오.")
        elif (len(project_ID) == 0) and (len(patient_ID) == 0):
            QtWidgets.QMessageBox.warning(self, "QMessageBox", "\n프로젝트, 환자명을 입력해주십시오.")
        else:
            self.window1 = SecondWindow()
            self.window1.showMaximized()

class SecondWindow(QWidget):
    def __init__(self):
        super().__init__()
        self.graph_and_video()

    def center(self):
        qr = self.frameGeometry()
        cp = QDesktopWidget().availableGeometry().center()
        qr.moveCenter(cp)
        self.move(qr.topLeft())
    
    def graph_and_video(self):
        global tobiiglasses
        global ipv4_address
        global Font_4
        # 레이아웃 생성
        hbox0 = QHBoxLayout()
        hbox1 = QHBoxLayout()
        vbox0 = QVBoxLayout()
        vbox1 = QVBoxLayout()
        vbox2 = QVBoxLayout()
        Gbox0 = QVBoxLayout()
        Gbox1 = QVBoxLayout()
        Gbox2 = QVBoxLayout()
        Gbox4 = QVBoxLayout()
        Gbox5 = QVBoxLayout()
        Gbox6 = QVBoxLayout()
        self.video_viewer_label = QtWidgets.QLabel()
        self.setting_label = QLabel(self)
        pm = QPixmap('igaze.png')
        self.setting_label.setPixmap(pm)
        
        # 기본 글꼴 설정
        Font_3 = QFont('Bahnschrift SemiLight', 8)
        Font_4 = QFont('Bahnschrift SemiLight', 12, QFont.Bold)
        self.setFont(Font_4) 

        # 그래프 객체 5개 생성 및 X축을 STRING축으로 설정
        graph_label_Style = "color: gray;""font-size: 9pt;""font-weight : bold"
        self.stringaxisA = pyqtgraph.AxisItem(orientation='bottom')
        self.stringaxisAOM = pyqtgraph.AxisItem(orientation='bottom')
        self.stringaxisE = pyqtgraph.AxisItem(orientation='bottom')
        self.stringaxisX = pyqtgraph.AxisItem(orientation='bottom')
        self.stringaxisY = pyqtgraph.AxisItem(orientation='bottom')
        self.stringaxisZ = pyqtgraph.AxisItem(orientation='bottom')
        self.Azi_label = QLabel("        Azimuth (Deg)",self)
        self.Azi_label.setStyleSheet(graph_label_Style)
        self.Azi = pyqtgraph.PlotWidget(axisItems={'bottom': self.stringaxisA})
        self.AOM_label = QLabel("        AOM Status",self)
        self.AOM_label.setStyleSheet(graph_label_Style)
        self.AOM = pyqtgraph.PlotWidget(axisItems={'bottom': self.stringaxisAOM})
        self.Elevation_label = QLabel("        Elevation (Deg)",self)
        self.Elevation_label.setStyleSheet(graph_label_Style)
        self.Elevation = pyqtgraph.PlotWidget(axisItems={'bottom': self.stringaxisE})
        self.Xaxis_label = QLabel("        Xaxis (mm)",self)
        self.Xaxis_label.setStyleSheet(graph_label_Style)
        self.Xaxis = pyqtgraph.PlotWidget(axisItems={'bottom': self.stringaxisX})
        self.Yaxis_label = QLabel("        Yaxis (mm)",self)
        self.Yaxis_label.setStyleSheet(graph_label_Style)
        self.Yaxis = pyqtgraph.PlotWidget(axisItems={'bottom': self.stringaxisY})
        self.Zaxis_label = QLabel("        Zaxis (mm)",self)
        self.Zaxis_label.setStyleSheet(graph_label_Style)
        self.Zaxis = pyqtgraph.PlotWidget(axisItems={'bottom': self.stringaxisZ})

        # Y축 이름 스타일 설정
        labelStyle = {'color': '#828282', 'font-size': '9pt', 'font-weight' : 'bold' }

        # Y축 이름 생성
        self.Zaxis.setLabel('bottom', 'Time(s)', **labelStyle)

        # x,y 눈금 글꼴 설정

        self.Azi.getAxis('left').setStyle(tickFont = Font_3, tickTextOffset=6)
        self.AOM.getAxis('left').setStyle(tickFont = Font_3, tickTextOffset=6)
        self.Elevation.getAxis('left').setStyle(tickFont = Font_3, tickTextOffset=6)
        self.Xaxis.getAxis('left').setStyle(tickFont = Font_3, tickTextOffset=6)
        self.Yaxis.getAxis('left').setStyle(tickFont = Font_3, tickTextOffset=6)
        self.Zaxis.getAxis('left').setStyle(tickFont = Font_3, tickTextOffset=6)
        self.Azi.getAxis('bottom').setStyle(showValues=False)
        self.AOM.getAxis('bottom').setStyle(showValues=False)
        self.Elevation.getAxis('bottom').setStyle(showValues=False)
        self.Xaxis.getAxis('bottom').setStyle(showValues=False)
        self.Yaxis.getAxis('bottom').setStyle(showValues=False)        
        self.Zaxis.getAxis('bottom').setStyle(tickFont = Font_3, tickTextOffset=6)


        # 그래프 그리드 설정
        self.Azi.showGrid(x=True, y=True)
        self.AOM.showGrid(x=True, y=True)
        self.Elevation.showGrid(x=True, y=True)
        self.Xaxis.showGrid(x=True, y=True)
        self.Yaxis.showGrid(x=True, y=True)
        self.Zaxis.showGrid(x=False, y=True)
        
        # 그래프 배경색 지정
        self.Azi.setBackground((240,240,240))
        self.AOM.setBackground((240,240,240))
        self.Elevation.setBackground((240,240,240))
        self.Xaxis.setBackground((240,240,240))
        self.Yaxis.setBackground((240,240,240))
        self.Zaxis.setBackground((240,240,240))

        # Data Indicator 그룹 박스 생성
        self.groupbox_ES = QGroupBox('AOM Connection')
        self.groupbox_EB = QGroupBox('AOM Mode Status')
        self.groupbox_TC = QGroupBox('Tobii Connection')
        self.groupbox_TB = QGroupBox('Tobii Battery Status')
        self.groupbox_CB = QGroupBox('Do Calibrate')
        self.groupbox_TS = QGroupBox('Calibration Status')

        # Data Indicator 라벨 생성
        self.label_ES = QLabel('Ready', self)
        self.label_EB = QLabel('0', self)
        self.label_TC = QLabel('Connected', self)
        #self.label_TB = QProgressBar(self, minimum=0, maximum=100, textVisible=True,
#                        objectName="BlueProgressBar")
        self.label_TB = QProgressBar(self)
        self.label_TB.setSizePolicy(QtWidgets.QSizePolicy(QtWidgets.QSizePolicy.Ignored,
                                                 QtWidgets.QSizePolicy.Ignored))
#        self.label_TB.setGeometry(10,10,300,20)
        self.button_CB = QPushButton('Do Calibrate')
        self.button_CB.clicked.connect(self.cali)
        self.label_TS = QLabel('Not Calibrated', self)

        # Data Indicator 가운데 정렬
        self.label_ES.setAlignment(Qt.AlignCenter)
        self.label_EB.setAlignment(Qt.AlignCenter)
        self.label_TC.setAlignment(Qt.AlignCenter)
        self.label_TB.setAlignment(Qt.AlignCenter)
        self.label_TS.setAlignment(Qt.AlignCenter)
        self.setting_label.setAlignment(Qt.AlignCenter)

        # Data Indicator 배경색 및 테두리 설정
        self.label_ES.setStyleSheet("color:rgb(255, 255, 255);" "background-color:rgb(82,131,190);"
                                   "border-style: solid;" "border-width: 1px;" "border-color: rgb(81,131,190);"
                                   "border-radius: 5px")
        self.label_EB.setStyleSheet("color:rgb(244, 121, 40);" "background-color:rgb(255,255,255);"
                                   "border-style: solid;" "border-width: 2px;" "border-color: rgb(81,131,190);"
                                   "border-radius: 5px")
        self.label_TC.setStyleSheet("color:rgb(255, 255, 255);" "background-color:rgb(82,131,190);"
                                   "border-style: solid;" "border-width: 1px;" "border-color: rgb(81,131,190);"
                                   "border-radius: 5px")
        self.label_TB.setStyleSheet('''
        QProgressBar::chunk {
            text-align: center;
            border: 2px solid #5183BE;
            background-color: #5183BE;
            width : 2px;
            margin : 2px;
        }
        ''')

        self.button_CB.setStyleSheet("color:rgb(255, 255, 255);" "background-color:rgb(82,131,190);"
                                   "border-style: solsid;" "border-width: 1px;" "border-color: rgb(81,131,190);"
                                   "border-radius: 5px")
        self.label_TS.setStyleSheet("color:rgb(255, 0, 0);" "background-color:rgb(82,131,190);"
                                   "border-style: solid;" "border-width: 1px;" "border-color: rgb(81,131,190);"
                                   "border-radius: 5px")

        # Data Indicator 글꼴 설정
        Font_5 = QFont("Bahnschrift SemiLight", 15, QFont.Bold)
        self.label_ES.setFont(Font_5)
        self.label_EB.setFont(Font_5)
        self.label_TC.setFont(Font_5)
        self.label_TB.setFont(Font_5)
        self.button_CB.setFont(Font_5)
        self.label_TS.setFont(Font_5)
        
        # 그룹박스와 Data Indicator 라벨 그룹화

        Gbox0.addWidget(self.label_ES)
        Gbox1.addWidget(self.label_EB)
        Gbox2.addWidget(self.label_TC)
        Gbox4.addWidget(self.label_TB)
        Gbox5.addWidget(self.button_CB)
        Gbox6.addWidget(self.label_TS)
        self.groupbox_ES.setLayout(Gbox0)
        self.groupbox_EB.setLayout(Gbox1)
        self.groupbox_TC.setLayout(Gbox2)
        self.groupbox_TB.setLayout(Gbox4)
        self.groupbox_CB.setLayout(Gbox5)
        self.groupbox_TS.setLayout(Gbox6)

        # 수평방향으로 창 그룹화 (1행 1열 그래프 5개), (1행 2열 스트리밍영상+Setting), (2행 라벨 6개)
        vbox1.addWidget(self.Azi_label)
        vbox1.addWidget(self.Azi)
        vbox1.addWidget(self.AOM_label)
        vbox1.addWidget(self.AOM)
        vbox1.addWidget(self.Elevation_label)
        vbox1.addWidget(self.Elevation)
        vbox1.addWidget(self.Xaxis_label)
        vbox1.addWidget(self.Xaxis)
        vbox1.addWidget(self.Yaxis_label)
        vbox1.addWidget(self.Yaxis)
        vbox1.addWidget(self.Zaxis_label)
        vbox1.addWidget(self.Zaxis)
        vbox2.addWidget(self.video_viewer_label)
        vbox2.addWidget(self.setting_label)
        hbox0.addLayout(vbox1)
        hbox0.addLayout(vbox2)
        
        hbox1.addWidget(self.groupbox_ES)
        hbox1.addWidget(self.groupbox_EB)
        hbox1.addWidget(self.groupbox_TC)
        hbox1.addWidget(self.groupbox_TB)
        hbox1.addWidget(self.groupbox_CB)
        hbox1.addWidget(self.groupbox_TS)
        # 그룹화된 창 수직방향으로 그룹화
        vbox0.addLayout(hbox0)
        vbox0.addLayout(hbox1)

        # 윈도우창생성 및 레이아웃 배치
        self.setLayout(vbox0)
        self.setGeometry(0, 30, 1920, 1009)  # 창 위치(x, y), width, height
        self.center()
        self.setWindowTitle("TI inc. STRABISMUS EYETRACKING PROGRAM v0.6 by Jeon  -  %s  -"% Main.DF_Date)


        # 그래프 펜 설정   ??
        self.Azi_r = self.Azi.plot(pen=pyqtgraph.mkPen(color=(203, 26, 126), width=2, style=QtCore.Qt.SolidLine,name = 'Right Eye'))
        self.Azi_l = self.Azi.plot(pen=pyqtgraph.mkPen(color=(44,106, 180), width=2, style=QtCore.Qt.DotLine, name = 'Left Eye'))
        self.AOM_r = self.AOM.plot(pen=pyqtgraph.mkPen(color=(203, 26, 126), width=2, style=QtCore.Qt.SolidLine,name = 'Right Eye'))
        self.AOM_l = self.AOM.plot(pen=pyqtgraph.mkPen(color=(44,106, 180), width=2, style=QtCore.Qt.DotLine, name = 'Left Eye'))
        self.Ele_r = self.Elevation.plot(pen=pyqtgraph.mkPen(color=(203, 26, 126), width=2, style=QtCore.Qt.SolidLine,name = 'Right Eye'))
        self.Ele_l = self.Elevation.plot(pen=pyqtgraph.mkPen(color=(44,106, 180), width=2, style=QtCore.Qt.DotLine, name = 'Left Eye'))
        self.Xaxis_r = self.Xaxis.plot(pen=pyqtgraph.mkPen(color=(120, 120, 120), width=2, style=QtCore.Qt.SolidLine,name = 'Right Eye'))
        self.Xaxis_l = self.Xaxis.plot(pen=pyqtgraph.mkPen(color=(244, 121, 40), width=2, style=QtCore.Qt.SolidLine, name = 'Left Eye'))        
        self.Yaxis_r = self.Yaxis.plot(pen=pyqtgraph.mkPen(color=(120, 120, 120), width=2, style=QtCore.Qt.SolidLine,name = 'Right Eye'))
        self.Yaxis_l = self.Yaxis.plot(pen=pyqtgraph.mkPen(color=(244, 121, 40), width=2, style=QtCore.Qt.SolidLine, name = 'Left Eye'))        
        self.Zaxis_r = self.Zaxis.plot(pen=pyqtgraph.mkPen(color=(120, 120, 120), width=2, style=QtCore.Qt.SolidLine,name = 'Right Eye'))
        self.Zaxis_l = self.Zaxis.plot(pen=pyqtgraph.mkPen(color=(244, 121, 40), width=2, style=QtCore.Qt.SolidLine, name = 'Left Eye'))        

        # 범례 추가 및 글꼴 설정 /////수정필요함
               
        # Tobii 연결
        ports = list(serial.tools.list_ports.comports())
        for p in ports:
            if 'USB Serial Port' in p.description:
        # Connection to port
                self.ser = serial.Serial(p.device, baudrate=9600, timeout = 0)
        
        #ipv4_address = "192.168.137.1"
        ipv4_address = "192.168.71.50"
        tobiiglasses = TobiiGlassesController(ipv4_address, video_scene=True)
        #tobiiglasses = TobiiGlassesController(ipv4_address, video_scene=True)
        tobiiglasses.start_streaming()
        self.video_thread()
        # 일정 시간 마다 그래프 및 라벨값 갱신
        self.SetTimer()
        self.showMaximized()

##data 몇개?        
    def SetTimer(self):
        self.Data_Get_Timer = QTimer()
        self.Data_Get_Timer.setInterval(Main.Cycle_Time*50)
        self.Data_Get_Timer.timeout.connect(self.update)
        self.Data_Get_Timer.start()
        
    def cali(self):
        global project_id
        global participant_id
        global calibration_id
        global res
        if tobiiglasses.is_recording():
            rec_id = tobiiglasses.get_current_recording_id()
            tobiiglasses.stop_recording(rec_id)
        project_id = tobiiglasses.create_project(project_ID)
        participant_id = tobiiglasses.create_participant(project_id, patient_ID)
        calibration_id = tobiiglasses.create_calibration(project_id, participant_id)
        tobiiglasses.start_calibration(calibration_id)
        res = tobiiglasses.wait_until_calibration_is_done(calibration_id)
        if res is False:
            print("Calibration failed!")
            exit(1)
    # pyqtslot ()  ~ 이벤트핸들러, timeout 시 update 수행
    @pyqtSlot()
    def update(self):
        # INDEX용 시간 계산
        global Right_status
        global Left_status
        global mode_status
        global offset
        global res
        global Font_4
        global data_gp
        
        #video_freq = tobiiglasses.get_video_freq()
        #frame_duration = 1000.0/float(video_freq)
        self.DF_Time = time.strftime('%H:%M:%S', time.localtime(time.time()))
        data_gp  = tobiiglasses.get_data()['gp']
        data_pts = tobiiglasses.get_data()['pts']
        offset = (data_gp['ts'] - data_pts['ts'])/1000000.0
        if offset > 0.0 and offset <= float(40):
            RS485 = self.Tobii_RX()
            if res == 1:
                Tobii_Cali_Status = "Calibrated"
                Result_Temp = DataFrame(RS485, index = [self.DF_Time])  ## AOM Append 시키기 (Index
                if (len(Main.DF_Result.index) <= 200):
                    Main.DF_Result = Main.DF_Result.append(Result_Temp)
                else :
                    Main.DF_Result = Main.DF_Result.iloc[-10:-1,:]
                
                Result_Temp.to_csv('./Data/%s.csv'% Main.OutFileName, mode='a', header=False)
                # X축 최대 눈금 제한 (Tick간 겹치지않게 숫자 설정)
                xMAXTickN = 12
                xdict = dict(enumerate(Main.DF_Result.index))
                xlist = list(xdict.items())
                xticklist = []
                if len(xlist) > xMAXTickN:
                    tick_interval = 17
                    tick_key = 0
                    for i in range(xMAXTickN+1):
                        xticklist.append(xlist[tick_key])
                        tick_key += tick_interval
                        # Tick키가 리스트 범위를 넘지 않도록 조건문 추가
                        if tick_key >= len(xlist):
                            tick_key = len(xlist)-1

                    self.stringaxisZ.setTicks([xticklist])
                else:
                    self.stringaxisZ.setTicks([xdict.items()])

                #new_time_data = int(time.time())
                
                # 그래프 갱신   ,,,  AOM  추가
                self.Azi.setXRange(0, 200, padding=0) # 항상 x축 시간을 최근 범위만 보여줌.
                self.Azi.setYRange(-50, 50, padding=0) # 항상 x축 시간을 최근 범위만 보여줌.
                self.AOM.setXRange(0, 200, padding=0) # 항상 x축 시간을 최근 범위만 보여줌.
                self.AOM.setYRange(-1, 1, padding=0) # 항상 x축 시간을 최근 범위만 보여줌.
                self.Elevation.setXRange(0, 200, padding=0) # 항상 x축 시간을 최근 범위만 보여줌.
                self.Elevation.setYRange(-50, 50, padding=0) # 항상 x축 시간을 최근 범위만 보여줌.
                self.Xaxis.setXRange(0, 200, padding=0) # 항상 x축 시간을 최근 범위만 보여줌.
                self.Xaxis.setYRange(-2, 2, padding=0) # 항상 x축 시간을 최근 범위만 보여줌.
                self.Yaxis.setXRange(0, 200, padding=0) # 항상 x축 시간을 최근 범위만 보여줌.
                self.Yaxis.setYRange(-2, 2, padding=0) # 항상 x축 시간을 최근 범위만 보여줌.
                self.Zaxis.setXRange(0, 200, padding=0) # 항상 x축 시간을 최근 범위만 보여줌.
                self.Zaxis.setYRange(-2, 2, padding=0) # 항상 x축 시간을 최근 범위만 보여줌.
                self.Azi_r.setData(Main.DF_Result.Azimuth_Right, name="Azimuth_Right")
                self.Azi_l.setData(Main.DF_Result.Azimuth_Left, name="Azimuth_Left")
                self.AOM_r.setData(Main.DF_Result.AOM_Right, name="AOM_Right")
                self.AOM_l.setData(Main.DF_Result.AOM_Left, name="AOM_Left")                
                self.Ele_r.setData(Main.DF_Result.Elevation_Right, name="Elevation_Right")
                self.Ele_l.setData(Main.DF_Result.Elevation_Left, name="Elevation_Left")
                self.Xaxis_r.setData(Main.DF_Result.Xaxis_Right, name="Xaxis_Right")
                self.Xaxis_l.setData(Main.DF_Result.Xaxis_Left, name="Xaxis_Left")
                self.Yaxis_r.setData(Main.DF_Result.Yaxis_Right, name="Yaxis_Right")
                self.Yaxis_l.setData(Main.DF_Result.Yaxis_Left, name="Yaxis_Left")
                self.Zaxis_r.setData(Main.DF_Result.Zaxis_Right, name="Zaxis_Right")
                self.Zaxis_l.setData(Main.DF_Result.Zaxis_Left, name="Zaxis_Left")

                # Inverter_Status Indicator 글꼴 재정의
                self.label_TB.setFont(Font_4)
                # Data Indicator 갱신
 
                self.label_TB.setValue(tobiiglasses.get_battery_status()['level'])
                self.label_TS.setStyleSheet("color:rgb(255, 255, 255);" "background-color:rgb(82,131,190);"
                                   "border-style: solid;" "border-width: 1px;" "border-color: rgb(81,131,190);"
                                   "border-radius: 5px")
                self.label_TS.setText("Calibrated")
                self.label_EB.setText("%d" %mode_status )
                # Tobii 연결 확인     #tobiiglasses.__connect__
            else:
                Tobii_Cali_Status = "Not Calibrated"
                self.label_TS.setText(Tobii_Cali_Status)
            # 캘리브레이션 상태에 따라 색상변경

    # 데이터 송수신 함수 정의
    
    def Tobii_RX(self):
        global USB_msg
        global Right_status
        global Left_status
        global mode_status
        RX_X_r = tobiiglasses.get_data()['right_eye']['gd']['gd'][0]
        RX_X_l = tobiiglasses.get_data()['left_eye']['gd']['gd'][0]
        RX_Y_r = tobiiglasses.get_data()['right_eye']['gd']['gd'][2]
        RX_Y_l= tobiiglasses.get_data()['left_eye']['gd']['gd'][2]
        RX_Z_r = tobiiglasses.get_data()['right_eye']['gd']['gd'][1]
        RX_Z_l = tobiiglasses.get_data()['left_eye']['gd']['gd'][1]
        CX_Azi_r = float(math.atan2(RX_Y_r,RX_X_r)*180/np.pi-90)
        CX_Azi_l = float(math.atan2(RX_Y_l,RX_X_l)*180/np.pi-90)
        CX_Elevation_r = float(math.atan2(RX_Z_r,(RX_X_r**2 + RX_Y_r**2)**(1/2))*180/np.pi*(-1))
        CX_Elevation_l = float(math.atan2(RX_Z_l,(RX_X_l**2 + RX_Y_l**2)**(1/2))*180/np.pi*(-1))            
        USB_msg = self.ser.readline() #데이터를 한 줄 끝까지 읽는다
        USB_msg = USB_msg.decode('utf-8')
        USB_msg = USB_msg.replace('\n','')
        USB_msg_dq.append(USB_msg)
        if len(USB_msg) > 0 :
            USB_msg = USB_msg_dq.pop()
            if USB_msg == "R0":
                Right_status = float(0)
            elif USB_msg == "R1":
                Right_status = float(1)
            elif USB_msg == "L0":
                Left_status = float(0)
            elif USB_msg == "L1":
                Left_status = float(1)
            elif USB_msg == "connected":
                self.label_ES.setText("Connected")
            elif USB_msg == "state = 0":
                mode_status = float(0)
            elif USB_msg == "state = 1":
                mode_status = float(1)
            elif USB_msg == "state = 2":
                mode_status = float(2)    
            elif USB_msg == "state = 3":
                mode_status = float(3)

        CX_Result = {'Azimuth_Right': CX_Azi_r,'Azimuth_Left': CX_Azi_l,'AOM_Right' : Right_status, 'AOM_Left' : Left_status,
                    'Elevation_Right': CX_Elevation_r,'Elevation_Left': CX_Elevation_l,'Xaxis_Right': RX_X_r,
                    'Xaxis_Left': RX_X_l,'Yaxis_Right': RX_Y_r,'Yaxis_Left': RX_Y_l,'Zaxis_Right': RX_Z_r,
                    'Zaxis_Left': RX_Z_l,'mode' : mode_status}
        return CX_Result
        
    def Video_to_frame(self):
        global offset
        global data_gp

        cap = cv2.VideoCapture("rtsp://%s:8554/live/scene" % ipv4_address)

        while True :
            self.ret, self.frame = cap.read()
            if self.ret:
                if offset > 0.0 and offset <= float(40):
                    cv2.circle(self.frame,(int(data_gp['gp'][0]*1920),int(data_gp['gp'][1]*1080)), 20, (0,0,255), 2)
                self.rgbImage = cv2.cvtColor(self.frame, cv2.COLOR_BGR2RGB)
                self.convertToQtFormat = QImage(self.rgbImage.data, self.rgbImage.shape[1], self.rgbImage.shape[0], QImage.Format_RGB888)
                self.pixmap = QPixmap(self.convertToQtFormat)
                self.p = self.pixmap.scaled(960, 480, QtCore.Qt.IgnoreAspectRatio)
                self.video_viewer_label.setPixmap(self.p)
                self.video_viewer_label.update()
            
                #sleep(0.0025) #영상 1프레임당 0.01초
            
            if cv2.waitKey(1) & 0xFF == ord('q'):
                break

        cap.release()
        cv2.destroyAllWindows()

        
    def video_thread(self):
        thread=threading.Thread(target=self.Video_to_frame)
        thread.daemon=True #프로그램 종료시 프로세스도 함께 종료USB_msg_dq (백그라운드 재생 X)
        thread.start()
        
        

if __name__ == "__main__":
    import sys
    app = QApplication(sys.argv)
    ex = Main()
    sys.exit(app.exec_())
